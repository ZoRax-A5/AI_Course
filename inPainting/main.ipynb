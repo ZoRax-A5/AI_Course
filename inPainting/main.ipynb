{
 "cells": [
  {
   "cell_type": "markdown",
   "metadata": {},
   "source": [
    "# 图像恢复\n",
    "\n",
    "<br>\n",
    "<hr>"
   ]
  },
  {
   "cell_type": "markdown",
   "metadata": {},
   "source": [
    "# 1. 实验介绍"
   ]
  },
  {
   "cell_type": "markdown",
   "metadata": {},
   "source": [
    "## 1.1 实验背景\n",
    "图像是一种非常常见的信息载体，但是在图像的获取、传输、存储的过程中可能由于各种原因使得图像受到噪声的影响。  \n",
    "如何去除噪声的影响，恢复图像原本的信息是计算机视觉中的重要研究问题。\n",
    "\n",
    "常见的图像恢复算法有基于空间域的中值滤波、基于小波域的小波去噪、基于偏微分方程的非线性扩散滤波等，在本次实验中，我们要对图像添加噪声，并对添加噪声的图像进行基于模型的去噪。"
   ]
  },
  {
   "cell_type": "markdown",
   "metadata": {},
   "source": [
    "## 1.2 实验要求\n",
    "A. 生成受损图像。\n",
    "+ 受损图像（X）是由原始图像（$I\\in R^{H*W*C}$）添加了不同噪声遮罩（noise masks）（$M\\in R^{H*W*C}$）得到的（$X=I \\bigodot M$），其中$\\bigodot$是逐元素相乘。\n",
    "+ 噪声遮罩仅包含 {0,1} 值。对原图的噪声遮罩的可以每行分别用 0.8/0.4/0.6 的噪声比率产生的，即噪声遮罩每个通道每行 80%/40%/60% 的像素值为 0，其他为 1。\n",
    "\n",
    "B. 使用你最擅长的算法模型，进行图像恢复。\n",
    "\n",
    "C. 评估误差为所有恢复图像（R）与原始图像（I）的 2-范数之和，此误差越小越好。$ \\rm error=\\sum_{i=1}^{3}norm(R_i(:)-I_i(:),2)$，其中(:)是向量化操作，其他评估方式包括 Cosine 相似度以及 SSIM 相似度。"
   ]
  },
  {
   "cell_type": "markdown",
   "metadata": {},
   "source": [
    "## 1.3 实验环境\n",
    "可以使用基于Python的 [OpenCV](https://opencv-python-tutroals.readthedocs.io/en/latest/py_tutorials/py_tutorials.html) 库进行图像相关处理，使用 [Numpy](https://www.numpy.org/) 库进行相关数值运算。  \n",
    "\n",
    "\n",
    "## 1.4 注意事项\n",
    "+ Python 与 Python Package 的使用方式，可在右侧 `API文档` 中查阅。\n",
    "+ 当右上角的『Python 3』长时间指示为运行中的时候，造成代码无法执行时，可以重新启动 Kernel 解决（左上角『Kernel』-『Restart Kernel』）。\n",
    "+ 工作目录中 `samples` 文件夹中有一些范例的原始与受损图片以供测试, 作业期间可能会补充些不同形式的受损图片\n",
    "\n",
    "\n",
    "## 1.5 参考资料\n",
    "OpenCV：https://opencv-python-tutroals.readthedocs.io/en/latest/py_tutorials/py_tutorials.html\n",
    "    \n",
    "Numpy：https://www.numpy.org/\n",
    "\n",
    "Scikit-Learn：https://scikit-learn.org/stable/"
   ]
  },
  {
   "cell_type": "markdown",
   "metadata": {},
   "source": [
    "# 2.实验部分"
   ]
  },
  {
   "cell_type": "markdown",
   "metadata": {},
   "source": [
    "## 2.1 导入相关包"
   ]
  },
  {
   "cell_type": "code",
   "execution_count": null,
   "metadata": {
    "deletable": false,
    "select": true
   },
   "outputs": [],
   "source": [
    "from matplotlib import pyplot as plt  # 展示图片\n",
    "import numpy as np  # 数值处理\n",
    "import cv2  # opencv库\n",
    "from sklearn.linear_model import LinearRegression, Ridge, Lasso  # 回归分析"
   ]
  },
  {
   "cell_type": "markdown",
   "metadata": {},
   "source": [
    "## 2.2 读取图片\n",
    "\n",
    "+ 读取图片我们采用 [cv2.imread(filename[, flags])](https://opencv-python-tutroals.readthedocs.io/en/latest/py_tutorials/py_gui/py_image_display/py_image_display.html#display-image) 函数：\n",
    "    + filename：文件路径\n",
    "    + flags：指定加载图像颜色类型的标志\n",
    "        + cv2.IMREAD_COLOR：读入一副彩色图像。图像的透明度会被忽略，这是默认参数，此时 flags=1。\n",
    "        + cv2.IMREAD_GRAYSCALE：以灰度模式读入图像，此时 flags=0。\n",
    "        + cv2.IMREAD_UNCHANGED：读入一幅图像，并且包括图像的 alpha 通道，此时 flags=-1。\n",
    "        \n",
    "**注意**：就算图像的路径是错的，OpenCV 也不会提醒你的，但是当你使用命令 print(img) 时得到的结果是 None。  "
   ]
  },
  {
   "cell_type": "markdown",
   "metadata": {},
   "source": [
    "<br>"
   ]
  },
  {
   "cell_type": "markdown",
   "metadata": {},
   "source": [
    "+ 显示图片使用 Matplotlib，具体可以参见 [Matplotlib docs](https://matplotlib.org/api/pyplot_api.html)。\n",
    "\n",
    "**注意**：彩色图像使用 OpenCV 加载时是 BGR 模式，但是 Matplotlib 是 RGB 模式。所以彩色图像如果已经被 OpenCV 读取，那它将不会被 Matplotlib 正确显示。因此我们将 BGR模式转换为 RGB 模式即可。"
   ]
  },
  {
   "cell_type": "code",
   "execution_count": null,
   "metadata": {
    "scrolled": true
   },
   "outputs": [],
   "source": [
    "# 图片路径\n",
    "img_path = 'A.png'\n",
    "\n",
    "# 以 BGR 方式读取图片\n",
    "img = cv2.imread(img_path)\n",
    "\n",
    "# 将 BGR 方式转换为 RGB 方式\n",
    "img = cv2.cvtColor(img, cv2.COLOR_BGR2RGB)\n",
    "\n",
    "# 打印图片类型\n",
    "print(type(img))\n",
    "\n",
    "# 展示图片\n",
    "plt.imshow(img)\n",
    "\n",
    "# 关闭坐标轴\n",
    "plt.axis('off')"
   ]
  },
  {
   "cell_type": "markdown",
   "metadata": {},
   "source": [
    "读取并展示一张图片，下面我们将其封装成为一个方法。"
   ]
  },
  {
   "cell_type": "code",
   "execution_count": null,
   "metadata": {
    "deletable": false
   },
   "outputs": [],
   "source": [
    "def read_image(img_path):\n",
    "    \"\"\"\n",
    "    读取图片，图片是以 np.array 类型存储\n",
    "    :param img_path: 图片的路径以及名称\n",
    "    :return: img np.array 类型存储\n",
    "    \"\"\"\n",
    "    # 读取图片\n",
    "    img = cv2.imread(img_path) \n",
    "    \n",
    "    # 如果图片是三通道，采用 matplotlib 展示图像时需要先转换通道\n",
    "    if len(img.shape) == 3:\n",
    "        img = cv2.cvtColor(img, cv2.COLOR_BGR2RGB)\n",
    "        \n",
    "    return img"
   ]
  },
  {
   "cell_type": "code",
   "execution_count": null,
   "metadata": {},
   "outputs": [],
   "source": [
    "# 加载图片的路径和名称\n",
    "img_path = 'A.png'\n",
    "\n",
    "# 读取图片\n",
    "img = read_image(img_path)  \n",
    "\n",
    "# 读取图片后图片的类型\n",
    "print(type(img))\n",
    "\n",
    "# 展示图片\n",
    "plt.imshow(img)  \n",
    "\n",
    "# 关闭坐标轴\n",
    "plt.axis('off') "
   ]
  },
  {
   "cell_type": "markdown",
   "metadata": {},
   "source": [
    "+ 展示图片"
   ]
  },
  {
   "cell_type": "code",
   "execution_count": null,
   "metadata": {
    "deletable": false
   },
   "outputs": [],
   "source": [
    "def plot_image(image, image_title, is_axis=False):\n",
    "    \"\"\"\n",
    "    展示图像\n",
    "    :param image: 展示的图像，一般是 np.array 类型\n",
    "    :param image_title: 展示图像的名称\n",
    "    :param is_axis: 是否需要关闭坐标轴，默认展示坐标轴\n",
    "    :return:\n",
    "    \"\"\"\n",
    "    # 展示图片\n",
    "    plt.imshow(image)\n",
    "    \n",
    "    # 关闭坐标轴,默认关闭\n",
    "    if not is_axis:\n",
    "        plt.axis('off')\n",
    "\n",
    "    # 展示受损图片的名称\n",
    "    plt.title(image_title)\n",
    "\n",
    "    # 展示图片\n",
    "    plt.show()"
   ]
  },
  {
   "cell_type": "code",
   "execution_count": null,
   "metadata": {},
   "outputs": [],
   "source": [
    "# 加载图片的路径和名称\n",
    "img_path = 'A.png'\n",
    "\n",
    "# 读取图片\n",
    "img = read_image(img_path)\n",
    "\n",
    "# 展示图片\n",
    "plot_image(image=img, image_title=\"original image\")"
   ]
  },
  {
   "cell_type": "markdown",
   "metadata": {},
   "source": [
    "## 2.3 保存图片\n",
    "+ OpenCV 保存一个图片使用函数 [cv2.imwrite(filename, img[, params])](https://docs.opencv.org/2.4/modules/highgui/doc/reading_and_writing_images_and_video.html?highlight=imread#cv2.imwrite)：\n",
    "    + filename：保存文件路径及文件名，文件名要加格式\n",
    "    + img：需要保存的图片"
   ]
  },
  {
   "cell_type": "markdown",
   "metadata": {},
   "source": [
    "下面我们用 `cv2.imwrite()` 来封装一个保存图片的函数。"
   ]
  },
  {
   "cell_type": "code",
   "execution_count": null,
   "metadata": {
    "deletable": false
   },
   "outputs": [],
   "source": [
    "def save_image(filename, image):\n",
    "    \"\"\"\n",
    "    将np.ndarray 图像矩阵保存为一张 png 或 jpg 等格式的图片\n",
    "    :param filename: 图片保存路径及图片名称和格式\n",
    "    :param image: 图像矩阵，一般为np.array\n",
    "    :return:\n",
    "    \"\"\"\n",
    "    # np.copy() 函数创建一个副本。\n",
    "    # 对副本数据进行修改，不会影响到原始数据，它们物理内存不在同一位置。\n",
    "    img = np.copy(image)\n",
    "    \n",
    "    # 从给定数组的形状中删除一维的条目\n",
    "    img = img.squeeze()\n",
    "    \n",
    "    # 将图片数据存储类型改为 np.uint8\n",
    "    if img.dtype == np.double:\n",
    "        \n",
    "        # 若img数据存储类型是 np.double ,则转化为 np.uint8 形式\n",
    "        img = img * np.iinfo(np.uint8).max\n",
    "        \n",
    "        # 转换图片数组数据类型\n",
    "        img = img.astype(np.uint8)\n",
    "    \n",
    "    # 将 RGB 方式转换为 BGR 方式\n",
    "    img = cv2.cvtColor(img, cv2.COLOR_RGB2BGR)\n",
    "    # 生成图片\n",
    "    cv2.imwrite(filename, img)"
   ]
  },
  {
   "cell_type": "code",
   "execution_count": null,
   "metadata": {},
   "outputs": [],
   "source": [
    "# 图片路径和名称\n",
    "img_path = 'A.png'\n",
    "\n",
    "# 读取图片\n",
    "img = read_image(img_path)\n",
    "\n",
    "# 保存图片，保存成功则文件栏会出现 A_save_img.png\n",
    "save_image(filename='A_{}_img.png'.format(\"save\"), image=img)"
   ]
  },
  {
   "cell_type": "markdown",
   "metadata": {},
   "source": [
    "运行上述代码后，图片保存文件栏中。"
   ]
  },
  {
   "cell_type": "markdown",
   "metadata": {},
   "source": [
    "## 2.4 归一化\n",
    "\n",
    "+ 机器学习过程中，数据归一化非常重要，归一化的目标主要有：\n",
    "    + 把数变为（0,1）或者（-1,1）之间的小数\n",
    "    + 把有量纲表达式变为无量纲表达式  \n",
    "\n",
    "\n",
    "\n",
    "+ 常见的归一化方法有:<br>\n",
    "    + 线性比例变换法 $x_i = \\frac{x_i}{max(x)}$\n",
    "    + min-max标准化 $x_i = \\frac{x_i-min(x)}{max(x)-min(x)}$\n",
    "    + z-score 标准化 $x_i = \\frac{x_i-mean(x)}{\\sigma}$\n",
    "    \n",
    "    \n",
    "    \n",
    "+ 参考资料：\n",
    "    + https://blog.csdn.net/pipisorry/article/details/52247379\n",
    "    + https://blog.csdn.net/zyf89531/article/details/45922151\n",
    "\n",
    "下面我们来实现线性比例变化法："
   ]
  },
  {
   "cell_type": "code",
   "execution_count": null,
   "metadata": {
    "deletable": false
   },
   "outputs": [],
   "source": [
    "def normalization(image):\n",
    "    \"\"\"\n",
    "    将数据线性归一化\n",
    "    :param image: 图片矩阵，一般是np.array 类型 \n",
    "    :return: 将归一化后的数据，在（0,1）之间\n",
    "    \"\"\"\n",
    "    # 获取图片数据类型对象的最大值和最小值\n",
    "    info = np.iinfo(image.dtype)\n",
    "    \n",
    "    # 图像数组数据放缩在 0-1 之间\n",
    "    return image.astype(np.double) / info.max"
   ]
  },
  {
   "cell_type": "code",
   "execution_count": null,
   "metadata": {},
   "outputs": [],
   "source": [
    "# 图片的路径和名称\n",
    "img_path = 'A.png'\n",
    "\n",
    "# 读取图片\n",
    "img = read_image(img_path)\n",
    "\n",
    "# 展示部分没有归一化的数据:\n",
    "print(\"没有归一化的数据：\\n\", img[0, 0, :])\n",
    "\n",
    "# 图片数据归一化\n",
    "img = normalization(img)\n",
    "\n",
    "# 展示部分 归一化后的数据\n",
    "print(\"归一化后的数据：\\n\", img[0, 0, :])"
   ]
  },
  {
   "cell_type": "markdown",
   "metadata": {},
   "source": [
    "## 2.5 生成受损图像\n",
    "\n",
    "生成受损图像的实验要求：\n",
    "\n",
    "+ 受损图像（X）是由原始图像（$I\\in R^{H*W*C}$）添加了不同噪声遮罩（noise masks）（$M\\in R^{H*W*C}$）得到的（$X=I \\bigodot M$），其中 $\\bigodot$ 是逐元素相乘。\n",
    "\n",
    "+ 噪声遮罩仅包含 {0,1} 值。对原图的噪声遮罩的可以每行分别用 0.8/0.4/0.6 的噪声比率产生的，即噪声遮罩每个通道每行 80%/40%/60% 的像素值为0，其他为1。\n"
   ]
  },
  {
   "cell_type": "code",
   "execution_count": null,
   "metadata": {
    "deletable": false,
    "select": true
   },
   "outputs": [],
   "source": [
    "def noise_mask_image(img, noise_ratio=[0.8,0.4,0.6]):\n",
    "    \"\"\"\n",
    "    根据题目要求生成受损图片\n",
    "    :param img: cv2 读取图片,而且通道数顺序为 RGB\n",
    "    :param noise_ratio: 噪声比率，类型是 List,，内容:[r 上的噪声比率,g 上的噪声比率,b 上的噪声比率]\n",
    "                        默认值分别是 [0.8,0.4,0.6]\n",
    "    :return: noise_img 受损图片, 图像矩阵值 0-1 之间，数据类型为 np.array,\n",
    "             数据类型对象 (dtype): np.double, 图像形状:(height,width,channel),通道(channel) 顺序为RGB\n",
    "    \"\"\"\n",
    "    # 受损图片初始化\n",
    "    noise_img = None\n",
    "    # -------------实现受损图像答题区域-----------------\n",
    "\n",
    "\n",
    "    \n",
    "    \n",
    "    # -----------------------------------------------\n",
    "\n",
    "    return noise_img\n"
   ]
  },
  {
   "cell_type": "code",
   "execution_count": null,
   "metadata": {},
   "outputs": [],
   "source": [
    "# 每个通道数不同的噪声比率\n",
    "noise_ratio = [0.4, 0.6, 0.8]\n",
    "\n",
    "# 图片路径及名称\n",
    "img_path = 'A.png'\n",
    "\n",
    "# 读取图片\n",
    "img = read_image(img_path)\n",
    "\n",
    "# 图片数据归一化\n",
    "nor_img = normalization(img)\n",
    "\n",
    "# 生成受损图片\n",
    "noise_img = noise_mask_image(nor_img, noise_ratio)\n",
    "\n",
    "# 判断还未生成受损图片时，则提示对方还未生成受损图片，否则展示受损图片\n",
    "if noise_img is not None:\n",
    "    # 展示受损图片\n",
    "    # 图片名称\n",
    "    image_title = \"noise_mask_image\"\n",
    "\n",
    "    # 展示图片\n",
    "    plot_image(noise_img, image_title)\n",
    "\n",
    "else:\n",
    "    print(\"返回值是 None, 请生成受损图片并返回!\")"
   ]
  },
  {
   "cell_type": "markdown",
   "metadata": {},
   "source": [
    "## 2.6 获取损失图像"
   ]
  },
  {
   "cell_type": "code",
   "execution_count": null,
   "metadata": {
    "deletable": false,
    "select": true
   },
   "outputs": [],
   "source": [
    "def get_noise_mask(noise_img):\n",
    "    \"\"\"\n",
    "    获取噪声图像，一般为 np.array\n",
    "    :param noise_img: 带有噪声的图片\n",
    "    :return: 噪声图像矩阵\n",
    "    \"\"\"\n",
    "    # 将图片数据矩阵只包含 0和1,如果不能等于 0 则就是 1。\n",
    "    return np.array(noise_img != 0, dtype='double')"
   ]
  },
  {
   "cell_type": "code",
   "execution_count": null,
   "metadata": {},
   "outputs": [],
   "source": [
    "# 展示原始图片、受损图片、噪声图片。\n",
    "# 原始图片路径\n",
    "img_path = 'A.png'\n",
    "\n",
    "# 读取图片\n",
    "img = read_image(img_path)  \n",
    "\n",
    "# 展示原始图片\n",
    "plot_image(image=img, image_title=\"original image\")\n",
    "\n",
    "# 受损图片部分\n",
    "# 图像数据归一化\n",
    "nor_img = normalization(img) \n",
    "\n",
    "# 每个通道数不同的噪声比率\n",
    "noise_ratio = [0.4, 0.6, 0.8]\n",
    "\n",
    "# 生成受损图片\n",
    "noise_img = noise_mask_image(nor_img, noise_ratio)\n",
    "\n",
    "if noise_img is None:\n",
    "    # 未生成受损图片\n",
    "    print(\"返回值是 None, 请生成受损图片并返回!\")\n",
    "    \n",
    "else:\n",
    "    # 展示受损图片\n",
    "    plot_image(image=noise_img, image_title=\"the noise_ratio = %s of original image\"%noise_ratio)\n",
    "    \n",
    "    # 根据受损图片获取噪声图片\n",
    "    noise_mask = get_noise_mask(noise_img) \n",
    "    \n",
    "    # 展示噪声图片\n",
    "    plot_image(image=noise_mask, image_title=\"the noise_ratio = %s of noise mask image\"%noise_ratio)\n"
   ]
  },
  {
   "cell_type": "markdown",
   "metadata": {},
   "source": [
    "## 2.7 评估误差\n",
    "\n",
    "评估误差为所有恢复图像（R）与原始图像（I）的2-范数之和，此误差越小越好。$ \\rm error=\\sum_{i=1}^{3}norm(R_i(:)-I_i(:),2)$，其中(:)是向量化操作。\n",
    "\n",
    "理解2-范数参考资料：\n",
    "+ https://blog.csdn.net/SusanZhang1231/article/details/52127011\n",
    "+ https://baike.baidu.com/item/%E4%BA%8C%E8%8C%83%E6%95%B0"
   ]
  },
  {
   "cell_type": "code",
   "execution_count": null,
   "metadata": {
    "deletable": false
   },
   "outputs": [],
   "source": [
    "def compute_error(res_img, img):\n",
    "    \"\"\"\n",
    "    计算恢复图像 res_img 与原始图像 img 的 2-范数\n",
    "    :param res_img:恢复图像 \n",
    "    :param img:原始图像 \n",
    "    :return: 恢复图像 res_img 与原始图像 img 的2-范数\n",
    "    \"\"\"\n",
    "    # 初始化\n",
    "    error = 0.0\n",
    "    \n",
    "    # 将图像矩阵转换成为np.narray\n",
    "    res_img = np.array(res_img)\n",
    "    img = np.array(img)\n",
    "    \n",
    "    # 如果2个图像的形状不一致，则打印出错误结果，返回值为 None\n",
    "    if res_img.shape != img.shape:\n",
    "        print(\"shape error res_img.shape and img.shape %s != %s\" % (res_img.shape, img.shape))\n",
    "        return None\n",
    "    \n",
    "    # 计算图像矩阵之间的评估误差\n",
    "    error = np.sqrt(np.sum(np.power(res_img - img, 2)))\n",
    "    \n",
    "    return round(error,3)"
   ]
  },
  {
   "cell_type": "code",
   "execution_count": null,
   "metadata": {},
   "outputs": [],
   "source": [
    "# 计算平面二维向量的 2-范数值 \n",
    "img0 = [1, 0]\n",
    "img1 = [0, 1]\n",
    "print(\"平面向量的评估误差：\", compute_error(img0, img1))"
   ]
  },
  {
   "cell_type": "markdown",
   "metadata": {},
   "source": [
    "### Cosine 相似度以及 SSIM 相似度"
   ]
  },
  {
   "cell_type": "code",
   "execution_count": null,
   "metadata": {},
   "outputs": [],
   "source": [
    "from skimage.measure import compare_ssim as ssim\n",
    "from scipy import spatial\n",
    "\n",
    "def calc_ssim(img, img_noise):\n",
    "    \"\"\"\n",
    "    计算图片的结构相似度\n",
    "    :param img: 原始图片， 数据类型为 ndarray, shape 为[长, 宽, 3]\n",
    "    :param img_noise: 噪声图片或恢复后的图片，\n",
    "                      数据类型为 ndarray, shape 为[长, 宽, 3]\n",
    "    :return:\n",
    "    \"\"\"\n",
    "    return ssim(img, img_noise,\n",
    "                multichannel=True,\n",
    "                data_range=img_noise.max() - img_noise.min())\n",
    "\n",
    "def calc_csim(img, img_noise):\n",
    "    \"\"\"\n",
    "    计算图片的 cos 相似度\n",
    "    :param img: 原始图片， 数据类型为 ndarray, shape 为[长, 宽, 3]\n",
    "    :param img_noise: 噪声图片或恢复后的图片，\n",
    "                      数据类型为 ndarray, shape 为[长, 宽, 3]\n",
    "    :return:\n",
    "    \"\"\"\n",
    "    img = img.reshape(-1)\n",
    "    img_noise = img_noise.reshape(-1)\n",
    "    return 1 - spatial.distance.cosine(img, img_noise)"
   ]
  },
  {
   "cell_type": "code",
   "execution_count": null,
   "metadata": {},
   "outputs": [],
   "source": [
    "from PIL import Image\n",
    "import numpy as np\n",
    "def read_img(path):\n",
    "    img = Image.open(path)\n",
    "    img = img.resize((150,150))\n",
    "    img = np.asarray(img, dtype=\"uint8\")\n",
    "    # 获取图片数据类型对象的最大值和最小值\n",
    "    info = np.iinfo(img.dtype)\n",
    "    # 图像数组数据放缩在 0-1 之间\n",
    "    return img.astype(np.double) / info.max\n",
    "\n",
    "\n",
    "img =  read_img('A.png')\n",
    "noise = np.ones_like(img) * 0.2 * (img.max() - img.min())\n",
    "noise[np.random.random(size=noise.shape) > 0.5] *= -1\n",
    "\n",
    "img_noise = img + abs(noise)\n",
    "\n",
    "print('相同图片的 SSIM 相似度: ', calc_ssim(img, img))\n",
    "print('相同图片的 Cosine 相似度: ', calc_csim(img, img))\n",
    "print('与噪声图片的 SSIM 相似度: ', calc_ssim(img, img_noise))\n",
    "print('与噪声图片的 Cosine 相似度: ', calc_csim(img, img_noise))"
   ]
  },
  {
   "cell_type": "markdown",
   "metadata": {},
   "source": [
    "## 2.8 图像恢复\n",
    "\n",
    "使用**你最擅长的算法模型**进行图像恢复。    \n",
    "\n",
    "工作目录中 `samples` 文件夹中有一些范例的原始与受损图片以供测试, 作业期间可能会补充些不同形式的受损图片。\n"
   ]
  },
  {
   "cell_type": "code",
   "execution_count": null,
   "metadata": {
    "deletable": false,
    "select": true
   },
   "outputs": [],
   "source": [
    "def restore_image(noise_img, size=4):\n",
    "    \"\"\"\n",
    "    使用 你最擅长的算法模型 进行图像恢复。\n",
    "    :param noise_img: 一个受损的图像\n",
    "    :param size: 输入区域半径，长宽是以 size*size 方形区域获取区域, 默认是 4\n",
    "    :return: res_img 恢复后的图片，图像矩阵值 0-1 之间，数据类型为 np.array,\n",
    "            数据类型对象 (dtype): np.double, 图像形状:(height,width,channel), 通道(channel) 顺序为RGB\n",
    "    \"\"\"\n",
    "    # 恢复图片初始化，首先 copy 受损图片，然后预测噪声点的坐标后作为返回值。\n",
    "    res_img = np.copy(noise_img)\n",
    "\n",
    "    # 获取噪声图像\n",
    "    noise_mask = get_noise_mask(noise_img)\n",
    "\n",
    "    # -------------实现图像恢复代码答题区域----------------------------\n",
    "\n",
    "\n",
    "\n",
    "    # ---------------------------------------------------------------\n",
    "\n",
    "    return res_img"
   ]
  },
  {
   "cell_type": "code",
   "execution_count": null,
   "metadata": {},
   "outputs": [],
   "source": [
    "# 原始图片\n",
    "# 加载图片的路径和名称\n",
    "img_path = 'A.png'\n",
    "\n",
    "# 读取原始图片\n",
    "img = read_image(img_path)\n",
    "\n",
    "# 展示原始图片\n",
    "plot_image(image=img, image_title=\"original image\")\n",
    "\n",
    "# 生成受损图片\n",
    "# 图像数据归一化\n",
    "nor_img = normalization(img)\n",
    "\n",
    "# 每个通道数不同的噪声比率\n",
    "noise_ratio = [0.4, 0.6, 0.8]\n",
    "\n",
    "# 生成受损图片\n",
    "noise_img = noise_mask_image(nor_img, noise_ratio)\n",
    "\n",
    "if noise_img is not None:\n",
    "    # 展示受损图片\n",
    "    plot_image(image=noise_img, image_title=\"the noise_ratio = %s of original image\"%noise_ratio)\n",
    "\n",
    "    # 恢复图片\n",
    "    res_img = restore_image(noise_img)\n",
    "    \n",
    "    # 计算恢复图片与原始图片的误差\n",
    "    print(\"恢复图片与原始图片的评估误差: \", compute_error(res_img, nor_img))\n",
    "    print(\"恢复图片与原始图片的 SSIM 相似度: \", calc_ssim(res_img, nor_img))\n",
    "    print(\"恢复图片与原始图片的 Cosine 相似度: \", calc_csim(res_img, nor_img))\n",
    "\n",
    "    # 展示恢复图片\n",
    "    plot_image(image=res_img, image_title=\"restore image\")\n",
    "\n",
    "    # 保存恢复图片\n",
    "    save_image('res_' + img_path, res_img)\n",
    "else:\n",
    "    # 未生成受损图片\n",
    "    print(\"返回值是 None, 请生成受损图片并返回!\")"
   ]
  },
  {
   "cell_type": "markdown",
   "metadata": {},
   "source": [
    "\n",
    "以上就是生成受损图片和恢复图片的全部流程，**提交作业时请注意**：\n",
    "\n",
    "1. 请你完成生成受损图片 `noise_mask_image()` 和恢复图片 `restore_image()` 部分的代码, 请不要修改函数的输入输出！\n",
    "2. 提交作业时请导入必要的包和第三方库 (包括此文件中曾经导入过的)。\n",
    "3. 点击左侧栏`提交作业`将`noise_mask_image()`、`restore_image()`函数及导入相关包的cell转化为 py 文件后进行`系统测试`，测试通过后即可提交作业。            \n",
    "4. 提交作业时请记得左侧文件列表中上传『程序报告.docx』或者 『程序报告.pdf』。"
   ]
  }
 ],
 "metadata": {
  "kernelspec": {
   "display_name": "Python 3",
   "language": "python",
   "name": "python3"
  },
  "language_info": {
   "codemirror_mode": {
    "name": "ipython",
    "version": 3
   },
   "file_extension": ".py",
   "mimetype": "text/x-python",
   "name": "python",
   "nbconvert_exporter": "python",
   "pygments_lexer": "ipython3",
   "version": "3.7.5"
  }
 },
 "nbformat": 4,
 "nbformat_minor": 2
}
